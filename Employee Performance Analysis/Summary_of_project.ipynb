{
 "cells": [
  {
   "cell_type": "markdown",
   "id": "460b1b6c",
   "metadata": {},
   "source": [
    "# Employee Performance Analysis\n",
    "## INX Future Inc.\n",
    "\n",
    "* Candidate Name      : Shreyas Sunku Padmanabha\n",
    "\n",
    "* Candidate E-Mail    : sunkushreyass@yahoo.com\n",
    "\n",
    "* Assesment ID        : E10901-PR2-V18\n",
    "\n",
    "* Module              : Certified Data Scientist - Project\n",
    "\n",
    "* Exam Format         : Open Project- IABAC™ Project Submission\n",
    "\n",
    "* Project Assessment  : IABAC™ \n",
    "\n",
    "* Registered Trainer  : Ashok Kumar A\n",
    "\n",
    "* Submission Deadline Date: 14-Jan-2023"
   ]
  },
  {
   "cell_type": "markdown",
   "id": "cadca078",
   "metadata": {},
   "source": [
    "## Data Science Project on Employee Performance Analysis\n",
    "\n",
    "#### Business Case:\n",
    "\n",
    "We must analyze the feautres present in the dataset, establish a correlation between the feautres and employee performance, and forecast the employee performance rating based on the feautres.\n",
    "\n",
    "### INX Future Inc Employee Performance - Project\n",
    "The Data science project which is given here is an analysis of employee performance.\n",
    "\n",
    "\n",
    "**The Goal and Insights of the project are as follows:**\n",
    "\n",
    "* Department wise performances\n",
    "* Top 3 Important Factors effecting employee performance\n",
    "* A trained model which can predict the employee performance based on factors as inputs.\n",
    " This will be used to hire employees\n",
    "* Recommendations to improve the employee performance based on insights from analysis\n",
    "\n",
    "\n",
    "With 1200 rows, the provided Employee dataset is large. There are 28 columns of features in the data. The dataset is 1200x28 in size. 19 of the 28 traits, which are divided into qualitative and quantitative categories, are quantitative (11 columns consists numeric data & 8 columns consists ordinal data) and there are 8 qualitative qualities. EmpNumber consists of alphanumeric data (distinct values), which is not a feature that is important for performance evaluation.\n",
    "\n",
    "Correlation between characteristics and Performance Rating is one of the key aspects of the data that can be obtained via correlation. A statistical measure known as correlation expresses how linearly related two variables are to one another. The project's analysis went through stages of univariate, bivariate, and multivariate analysis, correlation analysis, and analysis by each department to meet the project's objective."
   ]
  },
  {
   "cell_type": "markdown",
   "id": "3692d098",
   "metadata": {},
   "source": [
    "Categorical and numerical data make up the dataset. Since the target variable only contains ordinal values, the issue is one of classification. The Support Vector Classifier, Random Forest Classifier, and Artificial Neural Network [Multilayer Percepton] are the different machine learning models employed in this project. Artificial neural network [Multilayer percepton] predicts with a greater accuracy of 95.80% from the models mentioned above."
   ]
  },
  {
   "cell_type": "markdown",
   "id": "be3b3429",
   "metadata": {},
   "source": [
    "Finding the significant factor influencing the performance rating is one of the project's key objectives. The machine learning model feature importance technique was used to forecast the significant characteristics. Because most machine learning techniques rely on numerical approaches, which do not support strings, the major methodology utilized in preprocessing data uses the Mannual & Frequency encoding method to turn string-categorical data into numerical data. The machine learning model and visualization approaches were used to carry out the project as a whole and meet its objectives."
   ]
  },
  {
   "cell_type": "markdown",
   "id": "e8e1a884",
   "metadata": {},
   "source": [
    "# 1. Requirement\n",
    "\n",
    "For this initiative, the IABAC served as the source of the data that was provided. Based on information from INX Future Inc. (referred as INX ). With more than 15 years of experience operating internationally, it is one of the top providers of automation and data analytics solutions. Over the last five years, INX has continuously ranked among the top 20 best employers. The information is not from the actual company. The entire project was completed using the Python platform and a Jupyter notebook."
   ]
  },
  {
   "cell_type": "markdown",
   "id": "24cdb08e",
   "metadata": {},
   "source": [
    "# 2. Analysis\n",
    "By summarizing the features found in the data, analysis of the data was conducted. In the analysis, the traits are more important. The characteristics reveal how the dependent and independent variables are related. Early on in our study, Pandas also helped to define the datasets and provide answers to the questions below. The dataset's data are broken down into categories and numerical data."
   ]
  },
  {
   "cell_type": "markdown",
   "id": "de4b4406",
   "metadata": {},
   "source": [
    "## Categorical Features\n",
    "* EmpNumber\n",
    "* Gender\n",
    "* EducationBackground\n",
    "* MaritalStatus\n",
    "* EmpDepartment\n",
    "* EmpJobRole\n",
    "* BusinessTravelFrequency\n",
    "* OverTime\n",
    "* Attrition\n",
    "\n",
    "## Numerical Features\n",
    "* Age\n",
    "* DistanceFromHome\n",
    "* EmpHourlyRate\n",
    "* NumCompaniesWorked\n",
    "* EmpLastSalaryHikePercent\n",
    "* TotalWorkExperienceInYears\n",
    "* TrainingTimesLastYear\n",
    "* ExperienceYearsAtThisCompany\n",
    "* ExperienceYearsInCurrentRole\n",
    "* YearsSinceLastPromotion\n",
    "* YearsWithCurrManager\n",
    "\n",
    "## Ordinal Features\n",
    "* EmpEducationLevel\n",
    "* EmpEnvironmentSatisfaction\n",
    "* EmpJobInvolvement\n",
    "* EmpJobLevel\n",
    "* EmpJobSatisfaction\n",
    "* EmpRelationshipSatisfaction\n",
    "* EmpWorkLifeBalance\n",
    "* PerformanceRating"
   ]
  },
  {
   "cell_type": "markdown",
   "id": "f6150269",
   "metadata": {},
   "source": [
    "## 3.Univariate, Bivariate & Multivariate Analysis"
   ]
  },
  {
   "cell_type": "markdown",
   "id": "2c1d850b",
   "metadata": {},
   "source": [
    "* Library Used: Matplotlib & Seaborn\n",
    "* Plots Used: Histplot, Lineplot, CountPlot, Barplot\n",
    "* Tip: All Observation or insights written below the plots\n",
    "\n",
    "**Univariate Analysis:** In univariate analysis we get the unique labels of categorical features, as well as get the range & density of numbers.\n",
    "\n",
    "\n",
    "**Bivariate Analysis:** In bivariate analysis we check the feature relationship with target veriable.\n",
    "\n",
    "**Multivariate Analysis:** In multivariate Analysis check the relationship between two veriable with respect to the target veriable.\n",
    "\n",
    "\n",
    "#### CONCLUSION\n",
    "* There are some features are positively correlated with performance rating( Target variable)\n",
    "[Emp Environment Satisfaction,Emp Last Salary Hike Percent,Emp Work Life Balance]"
   ]
  },
  {
   "cell_type": "markdown",
   "id": "969f5183",
   "metadata": {},
   "source": [
    "# 4.Exploratory Data Analysis"
   ]
  },
  {
   "cell_type": "markdown",
   "id": "de383208",
   "metadata": {},
   "source": [
    "### Basic Check & Statistical Measures\n",
    "* Their is no constant column is present in Numerical as well as categoriacl data."
   ]
  },
  {
   "cell_type": "markdown",
   "id": "a977e66c",
   "metadata": {},
   "source": [
    "## Distribution of Continuous Features:\n",
    "Having a general understanding of how the features are distributed among one another would typically be one of the first few steps in exploring the data. We will use the well-known distplot function from the Seaborn plotting package to do this. Both numerical aspects have produced the distribution. It will convey an overall picture of the volume and preponderance of data present at various levels.\n",
    "\n",
    "* The majority of the employees are between the ages of 30 and 40 in the age range of 18 to 60.\n",
    "* Employees have worked for up to eight different companies, with the majority of them having worked for just two before coming to work for us.\n",
    "* The bulk of the workers in this company earn an hourly wage between 65 and 95. \n",
    "* In general, most employees stay with this company for up to five years. In this company, the majority of employees receive wage increases of 11% to 15%."
   ]
  },
  {
   "cell_type": "markdown",
   "id": "b3122f2f",
   "metadata": {},
   "source": [
    "#### Check Skewness and Kurtosis of Numerical Features\n",
    "Checking weather the data is Normally distributed or Not with Skewness and Kurtosis,\n",
    "* YearsSinceLastPromotion, This column is skewed\n",
    "* skewness for YearsSinceLastPromotion: 1.9724620367914252\n",
    "* kurtosis for YearsSinceLastPromotion: 3.5193552691799805"
   ]
  },
  {
   "cell_type": "markdown",
   "id": "7156cc4e",
   "metadata": {},
   "source": [
    "#### Distribution of Mean of Data\n",
    "* Distribution of mean close to guassian distribution with mean value 9.5\n",
    "* we can say that around 80% feature mean lies between 8.5 to 10.5\n",
    "\n",
    "#### Distribution of Standard Deviation of Data\n",
    "Distribution of standard deviation of data also look like guassian distribution around 30% of feature standard deviation around the range of 3 3 to 20 and remaining 70% feature standard deviation in between 0 to 2"
   ]
  },
  {
   "cell_type": "markdown",
   "id": "2182aa94",
   "metadata": {},
   "source": [
    "# 5.Data Pre-Processing\n",
    "**1.Check Missing Value:** Their is no missing value in data\n",
    "\n",
    "**2.Categorical Data Conversion:** Handel categorical data with the help of frequency and mannual encoding, because feature is contain lot's of labels\n",
    "\n",
    "* Mannual Encoding: Mannual encoding is a best techinque to handel categorical feature with the help of map function, map the labels based on frequency.\n",
    "\n",
    "* Frequency Encoding: Frequency encoding is an encoding technique to transform an original categorical variable to a numerical variable by considering the frequency distribution of the data getting value counts.\n",
    "\n",
    "**3.Outlier Handling** Some features are contain outliers so we are impute this outlier with the help of IQR because in all features data is not normally distributed\n",
    "\n",
    "**4.Feature Transformation:** In YearsSinceLastPromotion some skewed & kurtosis is present, so we are use Square Root Transformation techinque\n",
    "\n",
    "* Square root transformation: Square root transformation is one of the many types of standard transformations.This transformation is used for count data (data that follow a Poisson distribution) or small whole numbers. Each data point is replaced by its square root. Negative data is converted to positive by adding a constant, and then transformed.\n",
    "* Q-Q Plot: Q–Q plot is a probability plot, a graphical method for comparing two probability distributions by plotting their quantiles against each other.\n",
    "\n",
    "**5.Scaling The Data:** scaling the data with the help of Standard scalar\n",
    "* Standard Scaling: Standardization is the process of scaling the feature, it assumes the feature follow  normal distribution and scale the feature between mean and standard deviation, here mean is 0 and standard deviation is always 1.\n",
    "\n"
   ]
  },
  {
   "cell_type": "markdown",
   "id": "4b2be3a7",
   "metadata": {},
   "source": [
    "# 6.Feature Selection\n",
    "**1.Drop unique and constant feature:** Dropping employee number because this is a constant column as well as drop Years Since Last Promotion because we create a new feaure using square root transformation\n",
    "\n",
    "**2.Checking Correlation:** Checking correlation with the help of heat map, and get the their is no highly correlated feature is present.\n",
    "* Heatmap: A heatmap is a graphical representation of data that uses a system of color-coding to represent different values.\n",
    "\n",
    "**3.Check Duplicates:** In this data Their is no dupicates is present.\n",
    "\n",
    "**4.PCA:** Use pca to reduce the dimension of data, Data is contain total 27 feature after dropping unique and constant column,from PCA it shows the 25 feature has less varaince loss, so we are going to select 25 feature.\n",
    "\n",
    "* Principal component analysis (PCA) is a popular technique for analyzing large datasets containing a high number of dimensions/features per observation, increasing the interpretability of data while preserving the maximum amount of information, and enabling the visualization of multidimensional data. Formally, PCA is a statistical technique for reducing the dimensionality of a dataset.\n",
    "\n",
    "**5.Saving Pre-Process Data:** save the all preprocess data in new file and add target feature to it."
   ]
  },
  {
   "cell_type": "markdown",
   "id": "824dbf45",
   "metadata": {},
   "source": [
    "# 7.Machine learning Model Creation & Evaluation\n",
    "**1.Define Dependant and Independant Features:**\n",
    "\n",
    "**2.Balancing the data:** The data is imbalance, so we need to balance the data with the help of SMOTE\n",
    "* SMOTE: SMOTE (synthetic minority oversampling technique) is one of the most commonly used oversampling methods to solve the imbalance problem. It aims to balance class distribution by randomly increasing minority class examples by replicating them. SMOTE synthesises new minority instances between existing minority instances.\n",
    "\n",
    "**3.Splitting Training And Testing Data:** 80% data use for training & 20% data used for testing\n",
    "\n",
    "\n",
    "### Algorithm:\n",
    "\n",
    "**AIM:** Create a sweet spot model (Low bias, Low variance)\n",
    "\n",
    "**HERE WE WILL BE EXPERIMENTING WITH THREE ALGORITHM**\n",
    "1. Support Vector Machine\n",
    "2. Random Forest\n",
    "3. Artificial Neural Network [MLP Classifier]\n",
    "\n",
    "* Support vector machine well perform on training data with accuracy 96.61% but the test score is 94.66 after applying Hyperparameter tunning score is 98.28 means model is overfit.\n",
    "* Random forest very well perform in training data with 100% accuracy but in testing 95.61% after doing hyperparameter tunning testing score is decreases.\n",
    "* Artifical neural network[Multilayer percepton] perform very well on training data with 98.95% accuracy and testing score is 95.80%.\n",
    "* So we are select Artifical neuranl network [Multilayer percepton] model."
   ]
  },
  {
   "cell_type": "markdown",
   "id": "8177ae30",
   "metadata": {},
   "source": [
    "# 8.Saving Model\n",
    "* Save model with the helpof pickle file"
   ]
  },
  {
   "cell_type": "markdown",
   "id": "2fef7306",
   "metadata": {},
   "source": [
    "# Tools and Library Used:\n",
    "\n",
    "### Tools: \n",
    "* Jupyter\n",
    "\n",
    "### Library Used: \n",
    "* Pandas\n",
    "* Numpy\n",
    "* Matplotlib\n",
    "* Seaborn\n",
    "* pylab\n",
    "* Scipy\n",
    "* Sklearn\n",
    "* Pickle"
   ]
  },
  {
   "cell_type": "markdown",
   "id": "868abf38",
   "metadata": {},
   "source": [
    "# Goal 1: Department Wise Performances\n",
    "**PLOT USED**\n",
    "* Violinplot:  It shows the distribution of quantitative data across several levels of one (or more) categorical variables such that those distributions can be compared.\n",
    "* CountPlot: countplot is used to Show the counts of observations in each categorical bin using bars.\n",
    "\n",
    "\n",
    "\n",
    "**Sales:** The Performace rating level 3 is more in the sales department. The male performance rating the little bit higher compared to female.\n",
    "\n",
    "**Human Resources:** The majority of the employees lying under the level 3 performance . The older people are performing low in this department. The female employees in HR department doing really well in their performance.\n",
    "\n",
    "**Development:** The maximum number of employees are level 3 performers. Employees of all age are performing at the level of 3 only. The gender-based performance is nearly same for both.\n",
    "\n",
    "**Data Science:** The highest average of level 3 performance is in data science department. Data science is the only department where less number of level 2 performers. The overall performance is higher compared to all departments. Male employees are doing good in this department.\n",
    "\n",
    "**Research & Development:** The age factor is not deviating from the level of performance here where different employees with different age are there in every level of performance. The R&D has the good female employees in their performance.\n",
    "\n",
    "**Finance:** The finance department performance is exponentially decreasing when age increases. The male employees are doing good. The experience factor is inversely relating to the performance level."
   ]
  },
  {
   "cell_type": "markdown",
   "id": "e7d7e250",
   "metadata": {},
   "source": [
    "# Goal 2: Top 3 Important Factors effecting employee performance\n",
    "The top three important features affecting the performance rating are ordered with their importance level as follows,\n",
    "1. Employment Environment Satisfaction\n",
    "2. Employee Salary Hike Percentage\n",
    "3. Experience Years In CurrentRole\n",
    " \n",
    "**Employee Enviroment satisfaction:** Maximum Number of Employees Performance Rating belongs to EmpEnvironmentSatisfaction Level 3 & Level 4, It contains 367 & 361.\n",
    "\n",
    "**Employee last salary hike percent:** More Number of Employees whose salary hike percentage belongs to 11-19 % are getting 2 & 3 performance rating Maximum time. as well asEmployees whose salary hike percentage is in between 20-22%, There performance rating is 4.\n",
    "\n",
    "**Employee work life balance:** In EmpWorkLifeBalance, level 3 is showing high Performance Rating of employees\n"
   ]
  },
  {
   "cell_type": "markdown",
   "id": "81c1f16c",
   "metadata": {},
   "source": [
    "# Goal 3: A Trained model which can predict the employee performance\n",
    "The trained model is created using the machine learning algorithm as follows with the accuracy score,\n",
    "\n",
    "1. Support Vector Classifier: 98.28% accuracy\n",
    "2. Random Forest classifier: 95.61% accuracy\n",
    "3. Artifical Neural Network [Multilayer percepton]: 95.80%"
   ]
  },
  {
   "cell_type": "markdown",
   "id": "57c36b01",
   "metadata": {},
   "source": [
    "# Goal 4: Recommendations to improve the employee performance\n",
    "1. The overall employee performance can be achieved by employee environment satisfaction. The company needs to focus more on the employee environment satisfaction.\n",
    "2. The salary hike will give the boost to the employees to perform well.\n",
    "3. Promote the employee ervery 6th month\n",
    "4. Improve Employee's work-life balance this affects the performance rating.\n",
    "5. While recruiting for HR, consider the female candidates where they perform well compared to male.\n",
    "6. The development and sales department is having an overall higher performance comparing to rest of the departments.\n",
    "While some of the employees who gives feedback like Low & Medium from Job Satisfaction & Relationship Satisfaction feature, such employees gives Excellent performance more in number. So company should focus on them."
   ]
  }
 ],
 "metadata": {
  "kernelspec": {
   "display_name": "Python 3 (ipykernel)",
   "language": "python",
   "name": "python3"
  },
  "language_info": {
   "codemirror_mode": {
    "name": "ipython",
    "version": 3
   },
   "file_extension": ".py",
   "mimetype": "text/x-python",
   "name": "python",
   "nbconvert_exporter": "python",
   "pygments_lexer": "ipython3",
   "version": "3.9.13"
  }
 },
 "nbformat": 4,
 "nbformat_minor": 5
}
